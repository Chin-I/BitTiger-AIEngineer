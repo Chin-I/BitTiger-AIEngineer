{
 "cells": [
  {
   "cell_type": "code",
   "execution_count": 26,
   "metadata": {},
   "outputs": [
    {
     "name": "stdout",
     "output_type": "stream",
     "text": [
      "(150, 4)\n",
      "\n",
      "(150, 2)\n",
      "(150,)\n"
     ]
    }
   ],
   "source": [
    "import matplotlib.pyplot as plt\n",
    "from sklearn import datasets\n",
    "import numpy as np\n",
    "%matplotlib inline\n",
    "\n",
    "iris = datasets.load_iris()\n",
    "X = iris.data\n",
    "print(X.shape)\n",
    "X = iris.data[:,:2]\n",
    "y = iris.target\n",
    "print(\"\")\n",
    "print(X.shape)\n",
    "print(y.shape)\n"
   ]
  },
  {
   "cell_type": "code",
   "execution_count": 13,
   "metadata": {},
   "outputs": [
    {
     "name": "stdout",
     "output_type": "stream",
     "text": [
      "X:  [[ 5.1  3.5]\n",
      " [ 4.9  3. ]\n",
      " [ 4.7  3.2]\n",
      " [ 4.6  3.1]\n",
      " [ 5.   3.6]\n",
      " [ 5.4  3.9]\n",
      " [ 4.6  3.4]\n",
      " [ 5.   3.4]\n",
      " [ 4.4  2.9]\n",
      " [ 4.9  3.1]]\n",
      "y:  [0 0 0 0 0 0 0 0 0 0]\n",
      "y [0 1 2]\n"
     ]
    }
   ],
   "source": [
    "print (\"X: \",X[:10])\n",
    "print (\"y: \",y[:10])\n",
    "print ( \"y\",np.unique(y))\n"
   ]
  },
  {
   "cell_type": "code",
   "execution_count": 6,
   "metadata": {},
   "outputs": [
    {
     "data": {
      "text/plain": [
       "Counter({1: 2, 2: 1, 3: 1, 4: 1, 5: 3, 6: 1})"
      ]
     },
     "execution_count": 6,
     "metadata": {},
     "output_type": "execute_result"
    }
   ],
   "source": [
    "from collections import Counter\n",
    "a = [1,1,2,3,4,5,5,5,6]\n",
    "Counter(a)"
   ]
  },
  {
   "cell_type": "code",
   "execution_count": 11,
   "metadata": {
    "collapsed": true
   },
   "outputs": [],
   "source": [
    "from collections import Counter\n",
    "#gini index = sum(n_i/n * (1-sum(pj**2) ))\n",
    "#n = n1 + n2\n",
    "\n",
    "def giniIndex(y1,y2):\n",
    "    n1 = len(y1)\n",
    "    n2 = len(y2)\n",
    "    n = n1+n2\n",
    "    y1Counter = Counter(y1)\n",
    "    y2Counter = Counter(y2)\n",
    "    y1Ps = np.array([v/float(n1) for v in y1Counter.values()])\n",
    "    y2Ps = np.array([v/float(n2) for v in y2Counter.values()])\n",
    "    y1Gini = 1 - sum(y1Ps**2)\n",
    "    y2Gini = 1 - sum(y2Ps**2)\n",
    "    return float(n1)/(n)*y1Gini +float(n2)/(n)*y2Gini \n",
    "\n"
   ]
  },
  {
   "cell_type": "code",
   "execution_count": 12,
   "metadata": {},
   "outputs": [
    {
     "data": {
      "text/plain": [
       "0.5"
      ]
     },
     "execution_count": 12,
     "metadata": {},
     "output_type": "execute_result"
    }
   ],
   "source": [
    "#N = (0,0,0,0,1,1,1,1)\n",
    "#Worst\n",
    "giniIndex([1,1,0,0],[1,1,0,0])"
   ]
  },
  {
   "cell_type": "code",
   "execution_count": 9,
   "metadata": {},
   "outputs": [
    {
     "data": {
      "text/plain": [
       "0.375"
      ]
     },
     "execution_count": 9,
     "metadata": {},
     "output_type": "execute_result"
    }
   ],
   "source": [
    "giniIndex([1,0,0,0],[1,1,1,0])"
   ]
  },
  {
   "cell_type": "code",
   "execution_count": 10,
   "metadata": {},
   "outputs": [
    {
     "data": {
      "text/plain": [
       "0.0"
      ]
     },
     "execution_count": 10,
     "metadata": {},
     "output_type": "execute_result"
    }
   ],
   "source": [
    "#Best\n",
    "giniIndex([1,1,1,1],[0,0,0,0])"
   ]
  },
  {
   "cell_type": "code",
   "execution_count": 30,
   "metadata": {},
   "outputs": [
    {
     "name": "stdout",
     "output_type": "stream",
     "text": [
      "(35,)\n",
      "\n",
      "(23,)\n",
      "\n",
      "feature to use to split the node:  0\n",
      "best cut value:  5.5\n",
      "gini index: 5.5\n",
      "??? all feature val 116\n"
     ]
    }
   ],
   "source": [
    "#\n",
    "bestFeature = -1\n",
    "bestCutVal = 0\n",
    "bestGiniIndex = 1.\n",
    "ans=list()\n",
    "for j in np.arange(X.shape[1]):\n",
    "    uniqueVals = np.unique(X[:,j])\n",
    "    print(uniqueVals.shape)\n",
    "    print(\"\")\n",
    "    for val in uniqueVals: #iterate all features\n",
    "#         print(len(val))\n",
    "        #node splitting\n",
    "        y1 = y[X[:,j] <  val]\n",
    "        y2 = y[X[:,j] >= val]\n",
    "        temp = giniIndex(y1,y2)\n",
    "        ans.append(temp)\n",
    "        if (temp < bestGiniIndex):\n",
    "            bestGiniIndex = temp\n",
    "            bestFeature = j\n",
    "            bestCutVal = val\n",
    "        ans.append(temp)#2*35*23\n",
    "        \n",
    "print (\"feature to use to split the node: \", bestFeature)\n",
    "print (\"best cut value: \",bestCutVal)\n",
    "print (\"gini index:\" ,bestCutVal)\n",
    "print (\"??? all feature val\",len(ans)) #116\n",
    "       "
   ]
  },
  {
   "cell_type": "code",
   "execution_count": null,
   "metadata": {
    "collapsed": true
   },
   "outputs": [],
   "source": [
    "Counter(y)\n"
   ]
  },
  {
   "cell_type": "code",
   "execution_count": 18,
   "metadata": {},
   "outputs": [
    {
     "data": {
      "text/plain": [
       "Counter({0: 45, 1: 6, 2: 1})"
      ]
     },
     "execution_count": 18,
     "metadata": {},
     "output_type": "execute_result"
    }
   ],
   "source": [
    "y1 = y[X[:,bestFeature] < bestCutVal]\n",
    "Counter(y1)"
   ]
  },
  {
   "cell_type": "code",
   "execution_count": 19,
   "metadata": {},
   "outputs": [
    {
     "data": {
      "text/plain": [
       "Counter({0: 5, 1: 44, 2: 49})"
      ]
     },
     "execution_count": 19,
     "metadata": {},
     "output_type": "execute_result"
    }
   ],
   "source": [
    "y2 = y[X[:,bestFeature] >= bestCutVal]\n",
    "Counter(y2)"
   ]
  },
  {
   "cell_type": "code",
   "execution_count": null,
   "metadata": {
    "collapsed": true
   },
   "outputs": [],
   "source": []
  }
 ],
 "metadata": {
  "kernelspec": {
   "display_name": "Python 3",
   "language": "python",
   "name": "python3"
  },
  "language_info": {
   "codemirror_mode": {
    "name": "ipython",
    "version": 3
   },
   "file_extension": ".py",
   "mimetype": "text/x-python",
   "name": "python",
   "nbconvert_exporter": "python",
   "pygments_lexer": "ipython3",
   "version": "3.6.3"
  }
 },
 "nbformat": 4,
 "nbformat_minor": 2
}
