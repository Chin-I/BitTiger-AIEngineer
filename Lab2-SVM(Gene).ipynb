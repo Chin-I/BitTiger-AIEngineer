{
 "cells": [
  {
   "cell_type": "code",
   "execution_count": null,
   "metadata": {
    "collapsed": true
   },
   "outputs": [],
   "source": [
    "#RBF  bigger gamma bigger flexible 0.7->7\n",
    "\n",
    "#SVC - decision_function_shape\n",
    "# one vs rest (OVR) default less model so faster\n",
    "# original one vs one (OVO)\n",
    "# dual coef  = alpha!\n",
    "#GridSearch CV opt(C,kernels,degree,gama)\n",
    "8\n",
    "#mnist http://yann.lecun.com/exdb/mnist"
   ]
  }
 ],
 "metadata": {
  "kernelspec": {
   "display_name": "Python 3",
   "language": "python",
   "name": "python3"
  },
  "language_info": {
   "codemirror_mode": {
    "name": "ipython",
    "version": 3
   },
   "file_extension": ".py",
   "mimetype": "text/x-python",
   "name": "python",
   "nbconvert_exporter": "python",
   "pygments_lexer": "ipython3",
   "version": "3.6.3"
  }
 },
 "nbformat": 4,
 "nbformat_minor": 2
}
