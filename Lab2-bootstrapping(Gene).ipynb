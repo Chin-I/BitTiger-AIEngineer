{
 "cells": [
  {
   "cell_type": "code",
   "execution_count": 28,
   "metadata": {},
   "outputs": [],
   "source": [
    "import numpy as np\n",
    "import matplotlib.pyplot as plt\n",
    "%matplotlib inline\n",
    "#Jupyter Embedded"
   ]
  },
  {
   "cell_type": "code",
   "execution_count": 29,
   "metadata": {},
   "outputs": [
    {
     "data": {
      "text/plain": [
       "array([ 1.44983934])"
      ]
     },
     "execution_count": 29,
     "metadata": {},
     "output_type": "execute_result"
    }
   ],
   "source": [
    "X1 = np.random.randn(1) #from N(0,1) sample one data\n",
    "X1"
   ]
  },
  {
   "cell_type": "code",
   "execution_count": 30,
   "metadata": {},
   "outputs": [
    {
     "data": {
      "text/plain": [
       "(1000,)"
      ]
     },
     "execution_count": 30,
     "metadata": {},
     "output_type": "execute_result"
    }
   ],
   "source": [
    "Xs = np.zeros(1000)\n",
    "for i in range(len(Xs)):\n",
    "    Xs[i] = np.random.randn(1)\n",
    "Xs.shape"
   ]
  },
  {
   "cell_type": "code",
   "execution_count": 31,
   "metadata": {},
   "outputs": [
    {
     "data": {
      "text/plain": [
       "(array([   3.,   21.,   78.,  168.,  236.,  263.,  152.,   53.,   19.,    7.]),\n",
       " array([-3.19975926, -2.55446179, -1.90916432, -1.26386685, -0.61856938,\n",
       "         0.02672809,  0.67202555,  1.31732302,  1.96262049,  2.60791796,\n",
       "         3.25321543]),\n",
       " <a list of 10 Patch objects>)"
      ]
     },
     "execution_count": 31,
     "metadata": {},
     "output_type": "execute_result"
    },
    {
     "data": {
      "image/png": "[encoded data removed]",
      "text/plain": [
       "<matplotlib.figure.Figure at 0x7f28e6e602b0>"
      ]
     },
     "metadata": {},
     "output_type": "display_data"
    }
   ],
   "source": [
    "plt.hist(Xs)# big range -3~+3"
   ]
  },
  {
   "cell_type": "code",
   "execution_count": 32,
   "metadata": {},
   "outputs": [
    {
     "data": {
      "text/plain": [
       "(1000,)"
      ]
     },
     "execution_count": 32,
     "metadata": {},
     "output_type": "execute_result"
    }
   ],
   "source": [
    "#better\n",
    "Xs = np.random.randn(1000)\n",
    "Xs.shape"
   ]
  },
  {
   "cell_type": "code",
   "execution_count": 33,
   "metadata": {},
   "outputs": [
    {
     "data": {
      "text/plain": [
       "-0.0025819629029784751"
      ]
     },
     "execution_count": 33,
     "metadata": {},
     "output_type": "execute_result"
    }
   ],
   "source": [
    "X_mean = Xs.mean()\n",
    "X_mean"
   ]
  },
  {
   "cell_type": "code",
   "execution_count": 34,
   "metadata": {},
   "outputs": [
    {
     "data": {
      "text/plain": [
       "array([ 0.03189145, -0.01051901, -0.00858313, -0.02841187, -0.00587746,\n",
       "       -0.01364312, -0.02695459, -0.00410383,  0.00395106,  0.01628653,\n",
       "        0.06227408, -0.07339678,  0.03050903,  0.05561159,  0.03551001,\n",
       "       -0.05792201, -0.01657863,  0.02997592,  0.00022488, -0.01601087,\n",
       "        0.02151596, -0.00982368, -0.00623122,  0.01296945, -0.01158077,\n",
       "        0.03204223, -0.01581315, -0.04161414, -0.07989078,  0.02871808,\n",
       "       -0.0204424 , -0.00996865,  0.02552927, -0.04903339,  0.05074694,\n",
       "       -0.0068844 ,  0.00480849,  0.02236109, -0.02306436, -0.05263637,\n",
       "        0.03029203, -0.03256961,  0.0309017 ,  0.04832298,  0.04515189,\n",
       "        0.00870123,  0.00583393, -0.08236739, -0.03581549, -0.01391836,\n",
       "       -0.00702228, -0.02088211, -0.04736014,  0.00349642,  0.00372367,\n",
       "        0.00919891, -0.0091282 , -0.0726217 , -0.07542196,  0.00388489,\n",
       "        0.03287778, -0.05668552, -0.00244189, -0.02154519,  0.02863989,\n",
       "        0.02535066,  0.00181184, -0.00194002,  0.00298169,  0.00340604,\n",
       "       -0.04026074, -0.03006699, -0.07528203,  0.05623315,  0.0094799 ,\n",
       "        0.00247335,  0.0693887 ,  0.02883466, -0.02512943, -0.02316593,\n",
       "       -0.04337682, -0.03166345, -0.02728356,  0.03038546, -0.0050008 ,\n",
       "        0.00613177,  0.01884306, -0.00834963,  0.0043546 ,  0.00357854,\n",
       "       -0.04875051,  0.02948909, -0.0039235 ,  0.03945591,  0.02354605,\n",
       "       -0.03493945,  0.04244078, -0.05899244, -0.01513882,  0.02065137])"
      ]
     },
     "execution_count": 34,
     "metadata": {},
     "output_type": "execute_result"
    }
   ],
   "source": [
    "X_means = np.zeros(100)\n",
    "for i in range(len(X_means)):\n",
    "    Xs = np.random.randn(1000)\n",
    "    X_means[i] = Xs.mean()\n",
    "    \n",
    "X_means"
   ]
  },
  {
   "cell_type": "code",
   "execution_count": 35,
   "metadata": {},
   "outputs": [
    {
     "data": {
      "text/plain": [
       "(array([  6.,   4.,   6.,  11.,  18.,  21.,  10.,  15.,   5.,   4.]),\n",
       " array([-0.08236739, -0.06719178, -0.05201617, -0.03684056, -0.02166496,\n",
       "        -0.00648935,  0.00868626,  0.02386187,  0.03903748,  0.05421309,\n",
       "         0.0693887 ]),\n",
       " <a list of 10 Patch objects>)"
      ]
     },
     "execution_count": 35,
     "metadata": {},
     "output_type": "execute_result"
    },
    {
     "data": {
      "image/png": "[encoded data removed]",
      "text/plain": [
       "<matplotlib.figure.Figure at 0x7f28e6c46da0>"
      ]
     },
     "metadata": {},
     "output_type": "display_data"
    }
   ],
   "source": [
    "plt.hist(X_means) #smaller range -0.1~0.1"
   ]
  },
  {
   "cell_type": "code",
   "execution_count": 36,
   "metadata": {},
   "outputs": [
    {
     "name": "stdout",
     "output_type": "stream",
     "text": [
      "the mean of X:                   -0.0645812150076\n",
      "the mean of mean(X1,...,X1000):  -0.00405240574382\n",
      "the variance(standard deviation) of X:  1.01272952955\n",
      "the variance of mean(X1,...,X1000):  0.00113782379365\n"
     ]
    }
   ],
   "source": [
    "print (\"the mean of X:                  \", np.random.randn(1000).mean())\n",
    "print (\"the mean of mean(X1,...,X1000): \",X_means.mean())\n",
    "print (\"the variance(standard deviation) of X: \",np.random.randn(1000).std()**2)\n",
    "print (\"the variance of mean(X1,...,X1000): \",X_means.std()**2)       \n",
    "       "
   ]
  },
  {
   "cell_type": "code",
   "execution_count": 37,
   "metadata": {},
   "outputs": [
    {
     "data": {
      "text/plain": [
       "(array([  2.,   6.,  11.,   8.,  18.,  24.,  15.,   8.,   5.,   3.]),\n",
       " array([-0.05853993, -0.04299822, -0.02745651, -0.0119148 ,  0.00362691,\n",
       "         0.01916862,  0.03471033,  0.05025205,  0.06579376,  0.08133547,\n",
       "         0.09687718]),\n",
       " <a list of 10 Patch objects>)"
      ]
     },
     "execution_count": 37,
     "metadata": {},
     "output_type": "execute_result"
    },
    {
     "data": {
      "image/png": "[encoded data removed]",
      "text/plain": [
       "<matplotlib.figure.Figure at 0x7f28e6c46e10>"
      ]
     },
     "metadata": {},
     "output_type": "display_data"
    }
   ],
   "source": [
    "#if we only have one Xs\n",
    "X_means_bootstrapping = np.zeros(100)\n",
    "for i in range(len(X_means)):\n",
    "    Xs_resample = np.random.choice(Xs, len(Xs)) #(..) re-use bootstrappimg default \n",
    "    X_means_bootstrapping[i] = Xs_resample.mean()\n",
    "    \n",
    "plt.hist(X_means_bootstrapping)"
   ]
  },
  {
   "cell_type": "code",
   "execution_count": 38,
   "metadata": {},
   "outputs": [
    {
     "name": "stdout",
     "output_type": "stream",
     "text": [
      "the mean of X:                   -0.0330271751013\n",
      "the mean of mean(X1,...,X1000):  -0.00405240574382\n",
      "the variance(standard deviation) of X:  1.04314622054\n",
      "the variance of mean(X1,...,X1000):  0.00113782379365\n"
     ]
    }
   ],
   "source": [
    "print (\"the mean of X:                  \", np.random.randn(1000).mean())\n",
    "print (\"the mean of mean(X1,...,X1000): \",X_means.mean())\n",
    "print (\"the variance(standard deviation) of X: \",np.random.randn(1000).std()**2)\n",
    "print (\"the variance of mean(X1,...,X1000): \",X_means.std()**2)       \n",
    "   "
   ]
  },
  {
   "cell_type": "code",
   "execution_count": 39,
   "metadata": {},
   "outputs": [
    {
     "data": {
      "text/plain": [
       "array([4, 1, 3, 1, 5])"
      ]
     },
     "execution_count": 39,
     "metadata": {},
     "output_type": "execute_result"
    }
   ],
   "source": [
    "a = [1,2,3,4,5]\n",
    "np.random.choice(a,5)"
   ]
  },
  {
   "cell_type": "code",
   "execution_count": 40,
   "metadata": {},
   "outputs": [
    {
     "data": {
      "text/plain": [
       "array([2, 1, 5, 3, 4])"
      ]
     },
     "execution_count": 40,
     "metadata": {},
     "output_type": "execute_result"
    }
   ],
   "source": [
    "a = [1,2,3,4,5]\n",
    "np.random.choice(a,5,replace = False)"
   ]
  },
  {
   "cell_type": "code",
   "execution_count": null,
   "metadata": {
    "collapsed": true
   },
   "outputs": [],
   "source": []
  }
 ],
 "metadata": {
  "kernelspec": {
   "display_name": "Python 3",
   "language": "python",
   "name": "python3"
  },
  "language_info": {
   "codemirror_mode": {
    "name": "ipython",
    "version": 3
   },
   "file_extension": ".py",
   "mimetype": "text/x-python",
   "name": "python",
   "nbconvert_exporter": "python",
   "pygments_lexer": "ipython3",
   "version": "3.6.3"
  }
 },
 "nbformat": 4,
 "nbformat_minor": 2
}
